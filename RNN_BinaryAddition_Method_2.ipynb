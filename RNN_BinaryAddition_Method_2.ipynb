{
 "cells": [
  {
   "cell_type": "code",
   "execution_count": 1,
   "metadata": {},
   "outputs": [
    {
     "name": "stderr",
     "output_type": "stream",
     "text": [
      "Using TensorFlow backend.\n"
     ]
    },
    {
     "name": "stdout",
     "output_type": "stream",
     "text": [
      "This program runs on version 2.0.6\n",
      "keras version 2.0.6\n"
     ]
    }
   ],
   "source": [
    "## This sample program performs binary addition using RNN in Keras\n",
    "# Method 2 is much faster than Method 1\n",
    "\n",
    "import numpy as np\n",
    "import sys\n",
    "import os\n",
    "import random\n",
    "import keras\n",
    "\n",
    "\n",
    "#change the working directory \n",
    "os.chdir('/notebooks/torch')\n",
    "\n",
    "print(\"This program runs on version 2.0.6\")\n",
    "print(\"keras version \"+keras.__version__)"
   ]
  },
  {
   "cell_type": "markdown",
   "metadata": {},
   "source": []
  },
  {
   "cell_type": "code",
   "execution_count": 23,
   "metadata": {},
   "outputs": [
    {
     "name": "stdout",
     "output_type": "stream",
     "text": [
      "[[1 0 0 1]\n",
      " [0 1 0 1]\n",
      " [1 0 1 0]\n",
      " [0 1 0 1]\n",
      " [0 1 0 1]\n",
      " [0 1 0 1]\n",
      " [0 1 1 0]\n",
      " [0 1 0 1]]\n",
      "[[1]\n",
      " [0]\n",
      " [0]\n",
      " [1]\n",
      " [0]\n",
      " [0]\n",
      " [1]\n",
      " [0]]\n"
     ]
    }
   ],
   "source": [
    "print(X[0,...])\n",
    "print(y[0,...])"
   ]
  },
  {
   "cell_type": "code",
   "execution_count": 30,
   "metadata": {},
   "outputs": [],
   "source": [
    "# Each bit has 0 and 1 , i.e. two features\n",
    "def genData():\n",
    "    a1=random.randint(0,127)\n",
    "    a2=random.randint(0,127)\n",
    "    a3=a1+a2\n",
    "    tmp1=np.unpackbits(np.uint8(a1))\n",
    "    tmp2=np.unpackbits(np.uint8(a2))\n",
    "    y=np.unpackbits(np.uint8(a3))\n",
    "    tmp1=tmp1[::-1]\n",
    "    tmp2=tmp2[::-1]\n",
    "    y=y[::-1]\n",
    "    ones=np.ones((8), dtype=np.int)\n",
    "    flipped1=ones-tmp1\n",
    "    flipped2=ones-tmp2\n",
    "    flippedy=ones-y\n",
    "    \n",
    "    tmp1=np.reshape(tmp1, (8,1))\n",
    "    tmp2=np.reshape(tmp2, (8,1))\n",
    "    flipped1=np.reshape(flipped1, (8,1))\n",
    "    flipped2=np.reshape(flipped2, (8,1))\n",
    "    \n",
    "    X=np.concatenate((tmp1, flipped1, tmp2, flipped2),1)\n",
    "    y=np.reshape(y,(8,1))\n",
    "    flippedy=np.reshape(flippedy, (8,1))\n",
    "    y=np.concatenate((y, flippedy),1)\n",
    "\n",
    "    X=np.expand_dims(X,0)\n",
    "    y=np.expand_dims(y,0)\n",
    "    return(X,y)"
   ]
  },
  {
   "cell_type": "code",
   "execution_count": 31,
   "metadata": {},
   "outputs": [
    {
     "name": "stdout",
     "output_type": "stream",
     "text": [
      "[[[0 1 1 0]\n",
      "  [1 0 0 1]\n",
      "  [1 0 1 0]\n",
      "  [1 0 1 0]\n",
      "  [1 0 0 1]\n",
      "  [0 1 1 0]\n",
      "  [1 0 1 0]\n",
      "  [0 1 0 1]]]\n",
      "[[[1 0]\n",
      "  [1 0]\n",
      "  [0 1]\n",
      "  [1 0]\n",
      "  [0 1]\n",
      "  [0 1]\n",
      "  [1 0]\n",
      "  [1 0]]]\n"
     ]
    }
   ],
   "source": [
    "a,b=genData()\n",
    "print(a)\n",
    "print(b)"
   ]
  },
  {
   "cell_type": "code",
   "execution_count": 32,
   "metadata": {},
   "outputs": [
    {
     "name": "stdout",
     "output_type": "stream",
     "text": [
      "Sample Percentage: 6.20001240002\n"
     ]
    }
   ],
   "source": [
    "tmpX, tmpy=genData()\n",
    "X=tmpX\n",
    "y=tmpy\n",
    "# Note the total combination is 127 x 127\n",
    "NumSample=1000\n",
    "print(\"Sample Percentage: \"+str(NumSample/(127.*127.)*100))\n",
    "for i in range(NumSample-1):\n",
    "  tmpX, tmpy=genData()\n",
    "  X=np.insert(X, 1, tmpX, axis=0)\n",
    "  y=np.insert(y, 1, tmpy, axis=0)\n"
   ]
  },
  {
   "cell_type": "code",
   "execution_count": 33,
   "metadata": {},
   "outputs": [
    {
     "name": "stdout",
     "output_type": "stream",
     "text": [
      "(1000, 8, 4)\n",
      "(1000, 8, 2)\n"
     ]
    }
   ],
   "source": [
    "print(X.shape)\n",
    "print(y.shape)"
   ]
  },
  {
   "cell_type": "code",
   "execution_count": 34,
   "metadata": {},
   "outputs": [
    {
     "name": "stdout",
     "output_type": "stream",
     "text": [
      "(670, 8, 4)\n",
      "(670, 8, 2)\n",
      "Training Sample Percentage: 4.15400830802\n"
     ]
    }
   ],
   "source": [
    "from sklearn.model_selection import train_test_split\n",
    "X_train, X_test, y_train, y_test = train_test_split(X, y, test_size=0.33, random_state=42)\n",
    "\n",
    "print(X_train.shape)\n",
    "print(y_train.shape)\n",
    "\n",
    "print(\"Training Sample Percentage: \"+str(X_train.shape[0]/(127.*127.)*100))\n"
   ]
  },
  {
   "cell_type": "code",
   "execution_count": 36,
   "metadata": {},
   "outputs": [
    {
     "name": "stdout",
     "output_type": "stream",
     "text": [
      "Train on 569 samples, validate on 101 samples\n",
      "Epoch 1/100\n",
      "569/569 [==============================] - 0s - loss: 0.6927 - val_loss: 0.6918\n",
      "Epoch 2/100\n",
      "569/569 [==============================] - 0s - loss: 0.6916 - val_loss: 0.6914\n",
      "Epoch 3/100\n",
      "569/569 [==============================] - 0s - loss: 0.6905 - val_loss: 0.6911\n",
      "Epoch 4/100\n",
      "569/569 [==============================] - 0s - loss: 0.6893 - val_loss: 0.6910\n",
      "Epoch 5/100\n",
      "569/569 [==============================] - 0s - loss: 0.6880 - val_loss: 0.6902\n",
      "Epoch 6/100\n",
      "569/569 [==============================] - 0s - loss: 0.6871 - val_loss: 0.6897\n",
      "Epoch 7/100\n",
      "569/569 [==============================] - 0s - loss: 0.6861 - val_loss: 0.6892\n",
      "Epoch 8/100\n",
      "569/569 [==============================] - 0s - loss: 0.6853 - val_loss: 0.6895\n",
      "Epoch 9/100\n",
      "569/569 [==============================] - 1s - loss: 0.6843 - val_loss: 0.6884\n",
      "Epoch 10/100\n",
      "569/569 [==============================] - 0s - loss: 0.6836 - val_loss: 0.6879\n",
      "Epoch 11/100\n",
      "569/569 [==============================] - 0s - loss: 0.6827 - val_loss: 0.6875\n",
      "Epoch 12/100\n",
      "569/569 [==============================] - 0s - loss: 0.6818 - val_loss: 0.6876\n",
      "Epoch 13/100\n",
      "569/569 [==============================] - 0s - loss: 0.6806 - val_loss: 0.6859\n",
      "Epoch 14/100\n",
      "569/569 [==============================] - 0s - loss: 0.6796 - val_loss: 0.6850\n",
      "Epoch 15/100\n",
      "569/569 [==============================] - 0s - loss: 0.6784 - val_loss: 0.6839\n",
      "Epoch 16/100\n",
      "569/569 [==============================] - 0s - loss: 0.6770 - val_loss: 0.6841\n",
      "Epoch 17/100\n",
      "569/569 [==============================] - 0s - loss: 0.6755 - val_loss: 0.6808\n",
      "Epoch 18/100\n",
      "569/569 [==============================] - 0s - loss: 0.6741 - val_loss: 0.6797\n",
      "Epoch 19/100\n",
      "569/569 [==============================] - 0s - loss: 0.6724 - val_loss: 0.6768\n",
      "Epoch 20/100\n",
      "569/569 [==============================] - 0s - loss: 0.6705 - val_loss: 0.6747\n",
      "Epoch 21/100\n",
      "569/569 [==============================] - 0s - loss: 0.6682 - val_loss: 0.6722\n",
      "Epoch 22/100\n",
      "569/569 [==============================] - 0s - loss: 0.6662 - val_loss: 0.6697\n",
      "Epoch 23/100\n",
      "569/569 [==============================] - 0s - loss: 0.6634 - val_loss: 0.6668\n",
      "Epoch 24/100\n",
      "569/569 [==============================] - 0s - loss: 0.6604 - val_loss: 0.6628\n",
      "Epoch 25/100\n",
      "569/569 [==============================] - 0s - loss: 0.6568 - val_loss: 0.6579\n",
      "Epoch 26/100\n",
      "569/569 [==============================] - 0s - loss: 0.6525 - val_loss: 0.6526\n",
      "Epoch 27/100\n",
      "569/569 [==============================] - 0s - loss: 0.6473 - val_loss: 0.6460\n",
      "Epoch 28/100\n",
      "569/569 [==============================] - 0s - loss: 0.6407 - val_loss: 0.6392\n",
      "Epoch 29/100\n",
      "569/569 [==============================] - 0s - loss: 0.6327 - val_loss: 0.6296\n",
      "Epoch 30/100\n",
      "569/569 [==============================] - 0s - loss: 0.6229 - val_loss: 0.6181\n",
      "Epoch 31/100\n",
      "569/569 [==============================] - 0s - loss: 0.6112 - val_loss: 0.6052\n",
      "Epoch 32/100\n",
      "569/569 [==============================] - 0s - loss: 0.5972 - val_loss: 0.5896\n",
      "Epoch 33/100\n",
      "569/569 [==============================] - 0s - loss: 0.5807 - val_loss: 0.5716\n",
      "Epoch 34/100\n",
      "569/569 [==============================] - 0s - loss: 0.5625 - val_loss: 0.5517\n",
      "Epoch 35/100\n",
      "569/569 [==============================] - 0s - loss: 0.5423 - val_loss: 0.5300\n",
      "Epoch 36/100\n",
      "569/569 [==============================] - 0s - loss: 0.5198 - val_loss: 0.5047\n",
      "Epoch 37/100\n",
      "569/569 [==============================] - 0s - loss: 0.4958 - val_loss: 0.4819\n",
      "Epoch 38/100\n",
      "569/569 [==============================] - 0s - loss: 0.4718 - val_loss: 0.4575\n",
      "Epoch 39/100\n",
      "569/569 [==============================] - 0s - loss: 0.4494 - val_loss: 0.4357\n",
      "Epoch 40/100\n",
      "569/569 [==============================] - 0s - loss: 0.4282 - val_loss: 0.4133\n",
      "Epoch 41/100\n",
      "569/569 [==============================] - 0s - loss: 0.4090 - val_loss: 0.3933\n",
      "Epoch 42/100\n",
      "569/569 [==============================] - 0s - loss: 0.3904 - val_loss: 0.3747\n",
      "Epoch 43/100\n",
      "569/569 [==============================] - 0s - loss: 0.3741 - val_loss: 0.3600\n",
      "Epoch 44/100\n",
      "569/569 [==============================] - 0s - loss: 0.3572 - val_loss: 0.3423\n",
      "Epoch 45/100\n",
      "569/569 [==============================] - 0s - loss: 0.3428 - val_loss: 0.3305\n",
      "Epoch 46/100\n",
      "569/569 [==============================] - 0s - loss: 0.3273 - val_loss: 0.3182\n",
      "Epoch 47/100\n",
      "569/569 [==============================] - 0s - loss: 0.3129 - val_loss: 0.2977\n",
      "Epoch 48/100\n",
      "569/569 [==============================] - 0s - loss: 0.2985 - val_loss: 0.2851\n",
      "Epoch 49/100\n",
      "569/569 [==============================] - 0s - loss: 0.2855 - val_loss: 0.2739\n",
      "Epoch 50/100\n",
      "569/569 [==============================] - 0s - loss: 0.2719 - val_loss: 0.2584\n",
      "Epoch 51/100\n",
      "569/569 [==============================] - 0s - loss: 0.2602 - val_loss: 0.2496\n",
      "Epoch 52/100\n",
      "569/569 [==============================] - 0s - loss: 0.2476 - val_loss: 0.2321\n",
      "Epoch 53/100\n",
      "569/569 [==============================] - 1s - loss: 0.2361 - val_loss: 0.2244\n",
      "Epoch 54/100\n",
      "569/569 [==============================] - 0s - loss: 0.2247 - val_loss: 0.2101\n",
      "Epoch 55/100\n",
      "569/569 [==============================] - 0s - loss: 0.2127 - val_loss: 0.1970\n",
      "Epoch 56/100\n",
      "569/569 [==============================] - 0s - loss: 0.2001 - val_loss: 0.1846\n",
      "Epoch 57/100\n",
      "569/569 [==============================] - 0s - loss: 0.1884 - val_loss: 0.1771\n",
      "Epoch 58/100\n",
      "569/569 [==============================] - 0s - loss: 0.1776 - val_loss: 0.1623\n",
      "Epoch 59/100\n",
      "569/569 [==============================] - 0s - loss: 0.1659 - val_loss: 0.1525\n",
      "Epoch 60/100\n",
      "569/569 [==============================] - 0s - loss: 0.1542 - val_loss: 0.1391\n",
      "Epoch 61/100\n",
      "569/569 [==============================] - 0s - loss: 0.1425 - val_loss: 0.1274\n",
      "Epoch 62/100\n",
      "569/569 [==============================] - 0s - loss: 0.1311 - val_loss: 0.1164\n",
      "Epoch 63/100\n",
      "569/569 [==============================] - 0s - loss: 0.1192 - val_loss: 0.1067\n",
      "Epoch 64/100\n",
      "569/569 [==============================] - 0s - loss: 0.1082 - val_loss: 0.0945\n",
      "Epoch 65/100\n",
      "569/569 [==============================] - 0s - loss: 0.0981 - val_loss: 0.0849\n",
      "Epoch 66/100\n",
      "569/569 [==============================] - 0s - loss: 0.0882 - val_loss: 0.0768\n",
      "Epoch 67/100\n",
      "569/569 [==============================] - 0s - loss: 0.0799 - val_loss: 0.0686\n",
      "Epoch 68/100\n",
      "569/569 [==============================] - 0s - loss: 0.0710 - val_loss: 0.0608\n",
      "Epoch 69/100\n",
      "569/569 [==============================] - 0s - loss: 0.0624 - val_loss: 0.0529\n",
      "Epoch 70/100\n",
      "569/569 [==============================] - 0s - loss: 0.0544 - val_loss: 0.0465\n",
      "Epoch 71/100\n",
      "569/569 [==============================] - 0s - loss: 0.0471 - val_loss: 0.0411\n",
      "Epoch 72/100\n",
      "569/569 [==============================] - 0s - loss: 0.0405 - val_loss: 0.0341\n",
      "Epoch 73/100\n",
      "569/569 [==============================] - 0s - loss: 0.0343 - val_loss: 0.0291\n",
      "Epoch 74/100\n",
      "569/569 [==============================] - 0s - loss: 0.0288 - val_loss: 0.0244\n",
      "Epoch 75/100\n",
      "569/569 [==============================] - 0s - loss: 0.0239 - val_loss: 0.0198\n",
      "Epoch 76/100\n",
      "569/569 [==============================] - 0s - loss: 0.0199 - val_loss: 0.0167\n",
      "Epoch 77/100\n",
      "569/569 [==============================] - 0s - loss: 0.0164 - val_loss: 0.0136\n",
      "Epoch 78/100\n",
      "569/569 [==============================] - 0s - loss: 0.0133 - val_loss: 0.0111\n",
      "Epoch 79/100\n",
      "569/569 [==============================] - 0s - loss: 0.0107 - val_loss: 0.0090\n",
      "Epoch 80/100\n",
      "569/569 [==============================] - 0s - loss: 0.0084 - val_loss: 0.0070\n",
      "Epoch 81/100\n",
      "569/569 [==============================] - 0s - loss: 0.0067 - val_loss: 0.0056\n",
      "Epoch 82/100\n",
      "569/569 [==============================] - 0s - loss: 0.0052 - val_loss: 0.0043\n",
      "Epoch 83/100\n",
      "569/569 [==============================] - 0s - loss: 0.0041 - val_loss: 0.0034\n",
      "Epoch 84/100\n",
      "569/569 [==============================] - 0s - loss: 0.0032 - val_loss: 0.0027\n",
      "Epoch 85/100\n",
      "569/569 [==============================] - 0s - loss: 0.0025 - val_loss: 0.0021\n",
      "Epoch 86/100\n",
      "569/569 [==============================] - 0s - loss: 0.0020 - val_loss: 0.0016\n",
      "Epoch 87/100\n",
      "569/569 [==============================] - 0s - loss: 0.0015 - val_loss: 0.0012\n",
      "Epoch 88/100\n"
     ]
    },
    {
     "name": "stdout",
     "output_type": "stream",
     "text": [
      "569/569 [==============================] - 0s - loss: 0.0012 - val_loss: 0.0010\n",
      "Epoch 89/100\n",
      "569/569 [==============================] - 0s - loss: 9.1087e-04 - val_loss: 7.4298e-04\n",
      "Epoch 90/100\n",
      "569/569 [==============================] - 0s - loss: 6.9880e-04 - val_loss: 5.6925e-04\n",
      "Epoch 91/100\n",
      "569/569 [==============================] - 0s - loss: 5.3445e-04 - val_loss: 4.3528e-04\n",
      "Epoch 92/100\n",
      "569/569 [==============================] - 0s - loss: 4.0669e-04 - val_loss: 3.2880e-04\n",
      "Epoch 93/100\n",
      "569/569 [==============================] - 0s - loss: 3.0837e-04 - val_loss: 2.4822e-04\n",
      "Epoch 94/100\n",
      "569/569 [==============================] - 0s - loss: 2.3384e-04 - val_loss: 1.9082e-04\n",
      "Epoch 95/100\n",
      "569/569 [==============================] - 0s - loss: 1.7785e-04 - val_loss: 1.4440e-04\n",
      "Epoch 96/100\n",
      "569/569 [==============================] - 0s - loss: 1.3431e-04 - val_loss: 1.0812e-04\n",
      "Epoch 97/100\n",
      "569/569 [==============================] - 0s - loss: 1.0131e-04 - val_loss: 8.2403e-05\n",
      "Epoch 98/100\n",
      "569/569 [==============================] - 0s - loss: 7.6129e-05 - val_loss: 6.2022e-05\n",
      "Epoch 99/100\n",
      "569/569 [==============================] - 0s - loss: 5.7651e-05 - val_loss: 4.6602e-05\n",
      "Epoch 100/100\n",
      "569/569 [==============================] - 0s - loss: 4.3900e-05 - val_loss: 3.5736e-05\n",
      "finished\n"
     ]
    }
   ],
   "source": [
    "# Build the model.\n",
    "from keras.models import Sequential\n",
    "from keras.layers.core import Dense, Dropout, Activation\n",
    "from keras.layers.recurrent import LSTM\n",
    "from keras.callbacks import ModelCheckpoint\n",
    "\n",
    "isCheckpoint=False\n",
    "\n",
    "model = Sequential()\n",
    "#model.add(LSTM(256, input_dim=max_features, return_sequences=True))\n",
    "feature_dim=4\n",
    "model.add(LSTM(10, input_shape=(None, feature_dim), return_sequences=True))\n",
    "#model.add(LSTM(256, return_sequences=True))\n",
    "model.add(LSTM(10, return_sequences=True))\n",
    "model.add(Dense(2))  #is it dense? or add(LSTM(max_features))\n",
    "model.add(Activation('softmax'))\n",
    "\n",
    "model.compile(loss='categorical_crossentropy', optimizer='rmsprop')\n",
    "\n",
    "\n",
    "# It is a best practice to use checkpoint \n",
    "callbacks_list=None\n",
    "if isCheckpoint==True:\n",
    "  filepath=\"weight/RNN_BinaryAddition_Method_2-{epoch:02d}-{val_loss:.2f}.hdf5\"\n",
    "  checkpoint = ModelCheckpoint(filepath, monitor='val_loss', verbose=1, save_best_only=True, mode='min')\n",
    "  callbacks_list = [checkpoint]\n",
    "\n",
    "history=model.fit(X_train, y_train, validation_split=0.15 ,batch_size=32, epochs=100,callbacks=callbacks_list)\n",
    "\n",
    "print(\"finished\")\n"
   ]
  },
  {
   "cell_type": "code",
   "execution_count": 37,
   "metadata": {},
   "outputs": [
    {
     "data": {
      "image/png": "[encoded data removed]",
      "text/plain": [
       "<matplotlib.figure.Figure at 0x7f503efd0810>"
      ]
     },
     "metadata": {},
     "output_type": "display_data"
    }
   ],
   "source": [
    "import matplotlib.pyplot as plt\n",
    "# summarize history for loss\n",
    "plt.plot(history.history['loss'])\n",
    "plt.plot(history.history['val_loss'])\n",
    "plt.title('model loss')\n",
    "plt.ylabel('loss')\n",
    "plt.xlabel('epoch')\n",
    "plt.legend(['train', 'validation'], loc='lower left')\n",
    "plt.show()"
   ]
  },
  {
   "cell_type": "code",
   "execution_count": 38,
   "metadata": {},
   "outputs": [
    {
     "name": "stdout",
     "output_type": "stream",
     "text": [
      "327/330 [============================>.] - ETA: 0s"
     ]
    }
   ],
   "source": [
    "score = model.evaluate(X_test, y_test, batch_size=1)\n",
    "\n",
    "# predict(self, x, batch_size=32, verbose=0)"
   ]
  },
  {
   "cell_type": "code",
   "execution_count": 39,
   "metadata": {},
   "outputs": [
    {
     "name": "stdout",
     "output_type": "stream",
     "text": [
      "score: 4.01945055163e-05\n"
     ]
    }
   ],
   "source": [
    "print(\"score: \"+str(score))"
   ]
  },
  {
   "cell_type": "code",
   "execution_count": 40,
   "metadata": {},
   "outputs": [
    {
     "name": "stdout",
     "output_type": "stream",
     "text": [
      "(330, 8, 4)\n"
     ]
    }
   ],
   "source": [
    "print(X_test.shape)"
   ]
  },
  {
   "cell_type": "code",
   "execution_count": 41,
   "metadata": {
    "collapsed": true
   },
   "outputs": [],
   "source": [
    "predict_y=model.predict(X_test)"
   ]
  },
  {
   "cell_type": "code",
   "execution_count": 42,
   "metadata": {},
   "outputs": [
    {
     "name": "stdout",
     "output_type": "stream",
     "text": [
      "(330, 8, 2)\n"
     ]
    }
   ],
   "source": [
    "print(predict_y.shape)"
   ]
  },
  {
   "cell_type": "code",
   "execution_count": 43,
   "metadata": {},
   "outputs": [
    {
     "name": "stdout",
     "output_type": "stream",
     "text": [
      "[[0 1 1 0]\n",
      " [0 1 0 1]\n",
      " [0 1 0 1]\n",
      " [1 0 0 1]\n",
      " [1 0 0 1]\n",
      " [1 0 1 0]\n",
      " [0 1 1 0]\n",
      " [0 1 0 1]]\n"
     ]
    }
   ],
   "source": [
    "print(X_test[0,...])  "
   ]
  },
  {
   "cell_type": "code",
   "execution_count": 44,
   "metadata": {},
   "outputs": [
    {
     "name": "stdout",
     "output_type": "stream",
     "text": [
      "[[  9.99981284e-01   1.86856269e-05]\n",
      " [  8.96038637e-06   9.99991059e-01]\n",
      " [  1.14123704e-05   9.99988556e-01]\n",
      " [  9.99995470e-01   4.52318500e-06]\n",
      " [  9.99990463e-01   9.58954388e-06]\n",
      " [  2.83432255e-05   9.99971628e-01]\n",
      " [  5.49040851e-05   9.99945045e-01]\n",
      " [  9.99994993e-01   5.01345812e-06]]\n"
     ]
    }
   ],
   "source": [
    "print(predict_y[0,...])  "
   ]
  },
  {
   "cell_type": "code",
   "execution_count": null,
   "metadata": {
    "collapsed": true
   },
   "outputs": [],
   "source": [
    "#10001001"
   ]
  },
  {
   "cell_type": "code",
   "execution_count": null,
   "metadata": {
    "collapsed": true
   },
   "outputs": [],
   "source": [
    "#Another test   001110000011 + 001110000110 = 011100001001"
   ]
  },
  {
   "cell_type": "code",
   "execution_count": 79,
   "metadata": {
    "collapsed": true
   },
   "outputs": [],
   "source": [
    "a=np.zeros((1,12,4))"
   ]
  },
  {
   "cell_type": "code",
   "execution_count": 80,
   "metadata": {},
   "outputs": [],
   "source": [
    "for i in range(a.shape[1]):\n",
    "  a[0,i,1]=1\n",
    "  a[0,i,3]=1\n"
   ]
  },
  {
   "cell_type": "code",
   "execution_count": 82,
   "metadata": {},
   "outputs": [],
   "source": [
    "a[0,0,0]=1\n",
    "a[0,0,1]=0\n",
    "\n",
    "a[0,1,2]=1\n",
    "a[0,1,3]=0\n",
    "\n",
    "a[0,2,0]=1\n",
    "a[0,2,1]=0\n",
    "\n",
    "a[0,3,2]=1\n",
    "a[0,3,3]=0\n",
    "\n",
    "a[0,7,0]=1\n",
    "a[0,7,1]=0\n",
    "\n",
    "a[0,7,2]=1\n",
    "a[0,7,3]=0\n",
    "\n",
    "a[0,8,0]=1\n",
    "a[0,8,1]=0\n",
    "\n",
    "a[0,8,2]=1\n",
    "a[0,8,3]=0\n",
    "\n",
    "a[0,9,0]=1\n",
    "a[0,9,1]=0\n",
    "\n",
    "a[0,9,2]=1\n",
    "a[0,9,3]=0\n"
   ]
  },
  {
   "cell_type": "code",
   "execution_count": 83,
   "metadata": {},
   "outputs": [
    {
     "name": "stdout",
     "output_type": "stream",
     "text": [
      "[[[ 1.  0.  0.  1.]\n",
      "  [ 0.  1.  1.  0.]\n",
      "  [ 1.  0.  0.  1.]\n",
      "  [ 0.  1.  1.  0.]\n",
      "  [ 0.  1.  0.  1.]\n",
      "  [ 0.  1.  0.  1.]\n",
      "  [ 0.  1.  0.  1.]\n",
      "  [ 1.  0.  1.  0.]\n",
      "  [ 1.  0.  1.  0.]\n",
      "  [ 1.  0.  1.  0.]\n",
      "  [ 0.  1.  0.  1.]\n",
      "  [ 0.  1.  0.  1.]]]\n"
     ]
    }
   ],
   "source": [
    "print(a) #  001110000101 + 001110001010 "
   ]
  },
  {
   "cell_type": "code",
   "execution_count": 84,
   "metadata": {},
   "outputs": [
    {
     "name": "stdout",
     "output_type": "stream",
     "text": [
      "[[[  9.99957204e-01   4.27893174e-05]\n",
      "  [  9.99995947e-01   4.03458216e-06]\n",
      "  [  9.99994755e-01   5.20382719e-06]\n",
      "  [  9.99994993e-01   4.98259988e-06]\n",
      "  [  4.98904274e-06   9.99994993e-01]\n",
      "  [  5.91561820e-06   9.99994040e-01]\n",
      "  [  1.37963125e-05   9.99986172e-01]\n",
      "  [  4.24461432e-05   9.99957561e-01]\n",
      "  [  9.99880552e-01   1.19394950e-04]\n",
      "  [  9.99189913e-01   8.10047204e-04]\n",
      "  [  9.99995947e-01   4.04740786e-06]\n",
      "  [  6.90245179e-06   9.99993086e-01]]]\n"
     ]
    }
   ],
   "source": [
    "print(model.predict(a)) #ANS: 011100001111"
   ]
  },
  {
   "cell_type": "code",
   "execution_count": null,
   "metadata": {
    "collapsed": true
   },
   "outputs": [],
   "source": []
  }
 ],
 "metadata": {
  "kernelspec": {
   "display_name": "Python 2",
   "language": "python",
   "name": "python2"
  },
  "language_info": {
   "codemirror_mode": {
    "name": "ipython",
    "version": 2
   },
   "file_extension": ".py",
   "mimetype": "text/x-python",
   "name": "python",
   "nbconvert_exporter": "python",
   "pygments_lexer": "ipython2",
   "version": "2.7.12"
  }
 },
 "nbformat": 4,
 "nbformat_minor": 2
}
