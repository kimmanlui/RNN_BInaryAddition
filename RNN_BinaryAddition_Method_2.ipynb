{
 "cells": [
  {
   "cell_type": "code",
   "execution_count": 91,
   "metadata": {},
   "outputs": [
    {
     "name": "stdout",
     "output_type": "stream",
     "text": [
      "This program runs on version 2.0.6\n",
      "keras version 2.0.6\n"
     ]
    }
   ],
   "source": [
    "## This sample program performs binary addition using RNN in Keras\n",
    "# Method 2 is much faster than Method 1\n",
    "# Each bit has 0 and 1, meaning that we should have two columans for two features. \n",
    "\n",
    "import numpy as np\n",
    "import sys\n",
    "import os\n",
    "import random\n",
    "import keras\n",
    "\n",
    "\n",
    "#change the working directory \n",
    "os.chdir('/notebooks/torch')\n",
    "\n",
    "print(\"This program runs on version 2.0.6\")\n",
    "print(\"keras version \"+keras.__version__)"
   ]
  },
  {
   "cell_type": "code",
   "execution_count": 113,
   "metadata": {
    "collapsed": true
   },
   "outputs": [],
   "source": [
    "def genData(): \n",
    "    a1=random.randint(0,127)\n",
    "    a2=random.randint(0,127)\n",
    "    a3=a1+a2\n",
    "    tmp1=np.unpackbits(np.uint8(a1))\n",
    "    tmp2=np.unpackbits(np.uint8(a2))\n",
    "    y=np.unpackbits(np.uint8(a3))\n",
    "    tmp1=tmp1[::-1]\n",
    "    tmp2=tmp2[::-1]\n",
    "    y=y[::-1]\n",
    "    tmp1=np.reshape(tmp1, (8,1))\n",
    "    tmp2=np.reshape(tmp2, (8,1))\n",
    "    X=np.concatenate((tmp1, tmp2),1)\n",
    "    y=np.reshape(y,(8,1))\n",
    "    X=np.expand_dims(X,0)\n",
    "    y=np.expand_dims(y,0)\n",
    "    return(X,y)\n"
   ]
  },
  {
   "cell_type": "code",
   "execution_count": 116,
   "metadata": {},
   "outputs": [
    {
     "name": "stdout",
     "output_type": "stream",
     "text": [
      "[[[0 0]\n",
      "  [1 0]\n",
      "  [1 0]\n",
      "  [0 1]\n",
      "  [1 1]\n",
      "  [0 0]\n",
      "  [0 0]\n",
      "  [0 0]]]\n",
      "[[[0]\n",
      "  [1]\n",
      "  [1]\n",
      "  [1]\n",
      "  [0]\n",
      "  [1]\n",
      "  [0]\n",
      "  [0]]]\n"
     ]
    }
   ],
   "source": [
    "a,b=genData()\n",
    "print(a)\n",
    "print(b)"
   ]
  },
  {
   "cell_type": "code",
   "execution_count": 119,
   "metadata": {
    "collapsed": true
   },
   "outputs": [],
   "source": [
    "def addComplementCol(x, colDex):\n",
    "    a=np.copy(x)\n",
    "    if x.shape[0]!=1:\n",
    "        print(\"error: can only handle shape[0]==1\")\n",
    "        return\n",
    "    ones=np.ones((a.shape[1]), dtype=a.dtype)\n",
    "    flipped=ones-a[0,...,colDex]\n",
    "    flipped=np.reshape(flipped, (a.shape[1],1))\n",
    "    flipped=np.expand_dims(flipped,0)\n",
    "    a=np.concatenate((a, flipped),2)\n",
    "    return(a)"
   ]
  },
  {
   "cell_type": "code",
   "execution_count": 120,
   "metadata": {},
   "outputs": [
    {
     "name": "stdout",
     "output_type": "stream",
     "text": [
      "[[[0 0 1 1]\n",
      "  [1 0 0 1]\n",
      "  [1 0 0 1]\n",
      "  [0 1 1 0]\n",
      "  [1 1 0 0]\n",
      "  [0 0 1 1]\n",
      "  [0 0 1 1]\n",
      "  [0 0 1 1]]]\n"
     ]
    }
   ],
   "source": [
    "a=addComplementCol(a, 0)\n",
    "a=addComplementCol(a, 1)\n",
    "print(a)"
   ]
  },
  {
   "cell_type": "code",
   "execution_count": 123,
   "metadata": {},
   "outputs": [
    {
     "name": "stdout",
     "output_type": "stream",
     "text": [
      "Sample Percentage: 6.20001240002\n"
     ]
    }
   ],
   "source": [
    "tmpX, tmpy=genData()\n",
    "tmpX=addComplementCol(tmpX, 0)\n",
    "tmpX=addComplementCol(tmpX, 1)\n",
    "tmpy=addComplementCol(tmpy, 0)\n",
    "X=tmpX\n",
    "y=tmpy\n",
    "# Note the total combination is 127 x 127\n",
    "NumSample=1000\n",
    "print(\"Sample Percentage: \"+str(NumSample/(127.*127.)*100))\n",
    "for i in range(NumSample-1):\n",
    "  tmpX, tmpy=genData()\n",
    "  tmpX=addComplementCol(tmpX, 0)\n",
    "  tmpX=addComplementCol(tmpX, 1)\n",
    "  tmpy=addComplementCol(tmpy, 0)\n",
    "  X=np.insert(X, 1, tmpX, axis=0)\n",
    "  y=np.insert(y, 1, tmpy, axis=0)\n"
   ]
  },
  {
   "cell_type": "code",
   "execution_count": 124,
   "metadata": {},
   "outputs": [
    {
     "name": "stdout",
     "output_type": "stream",
     "text": [
      "(1000, 8, 4)\n",
      "(1000, 8, 2)\n"
     ]
    }
   ],
   "source": [
    "print(X.shape)\n",
    "print(y.shape)"
   ]
  },
  {
   "cell_type": "code",
   "execution_count": 125,
   "metadata": {},
   "outputs": [
    {
     "name": "stdout",
     "output_type": "stream",
     "text": [
      "(670, 8, 4)\n",
      "(670, 8, 2)\n",
      "Training Sample Percentage: 4.15400830802\n"
     ]
    }
   ],
   "source": [
    "from sklearn.model_selection import train_test_split\n",
    "X_train, X_test, y_train, y_test = train_test_split(X, y, test_size=0.33, random_state=42)\n",
    "\n",
    "print(X_train.shape)\n",
    "print(y_train.shape)\n",
    "\n",
    "print(\"Training Sample Percentage: \"+str(X_train.shape[0]/(127.*127.)*100))\n"
   ]
  },
  {
   "cell_type": "code",
   "execution_count": 126,
   "metadata": {},
   "outputs": [
    {
     "name": "stdout",
     "output_type": "stream",
     "text": [
      "Train on 569 samples, validate on 101 samples\n",
      "Epoch 1/100\n",
      "569/569 [==============================] - 0s - loss: 0.6931 - val_loss: 0.6916\n",
      "Epoch 2/100\n",
      "569/569 [==============================] - 0s - loss: 0.6916 - val_loss: 0.6901\n",
      "Epoch 3/100\n",
      "569/569 [==============================] - 0s - loss: 0.6903 - val_loss: 0.6890\n",
      "Epoch 4/100\n",
      "569/569 [==============================] - 0s - loss: 0.6892 - val_loss: 0.6870\n",
      "Epoch 5/100\n",
      "569/569 [==============================] - 0s - loss: 0.6879 - val_loss: 0.6848\n",
      "Epoch 6/100\n",
      "569/569 [==============================] - 0s - loss: 0.6868 - val_loss: 0.6838\n",
      "Epoch 7/100\n",
      "569/569 [==============================] - 0s - loss: 0.6858 - val_loss: 0.6822\n",
      "Epoch 8/100\n",
      "569/569 [==============================] - 0s - loss: 0.6849 - val_loss: 0.6810\n",
      "Epoch 9/100\n",
      "569/569 [==============================] - 0s - loss: 0.6839 - val_loss: 0.6805\n",
      "Epoch 10/100\n",
      "569/569 [==============================] - 0s - loss: 0.6831 - val_loss: 0.6794\n",
      "Epoch 11/100\n",
      "569/569 [==============================] - 0s - loss: 0.6820 - val_loss: 0.6785\n",
      "Epoch 12/100\n",
      "569/569 [==============================] - 0s - loss: 0.6810 - val_loss: 0.6778\n",
      "Epoch 13/100\n",
      "569/569 [==============================] - 0s - loss: 0.6795 - val_loss: 0.6772\n",
      "Epoch 14/100\n",
      "569/569 [==============================] - 0s - loss: 0.6782 - val_loss: 0.6768\n",
      "Epoch 15/100\n",
      "569/569 [==============================] - 0s - loss: 0.6768 - val_loss: 0.6755\n",
      "Epoch 16/100\n",
      "569/569 [==============================] - 0s - loss: 0.6752 - val_loss: 0.6745\n",
      "Epoch 17/100\n",
      "569/569 [==============================] - 0s - loss: 0.6732 - val_loss: 0.6734\n",
      "Epoch 18/100\n",
      "569/569 [==============================] - 0s - loss: 0.6710 - val_loss: 0.6728\n",
      "Epoch 19/100\n",
      "569/569 [==============================] - 0s - loss: 0.6686 - val_loss: 0.6710\n",
      "Epoch 20/100\n",
      "569/569 [==============================] - 0s - loss: 0.6657 - val_loss: 0.6700\n",
      "Epoch 21/100\n",
      "569/569 [==============================] - 0s - loss: 0.6628 - val_loss: 0.6687\n",
      "Epoch 22/100\n",
      "569/569 [==============================] - 0s - loss: 0.6591 - val_loss: 0.6655\n",
      "Epoch 23/100\n",
      "569/569 [==============================] - 0s - loss: 0.6546 - val_loss: 0.6627\n",
      "Epoch 24/100\n",
      "569/569 [==============================] - 0s - loss: 0.6494 - val_loss: 0.6590\n",
      "Epoch 25/100\n",
      "569/569 [==============================] - 0s - loss: 0.6435 - val_loss: 0.6545\n",
      "Epoch 26/100\n",
      "569/569 [==============================] - 0s - loss: 0.6364 - val_loss: 0.6489\n",
      "Epoch 27/100\n",
      "569/569 [==============================] - 0s - loss: 0.6283 - val_loss: 0.6419\n",
      "Epoch 28/100\n",
      "569/569 [==============================] - 0s - loss: 0.6188 - val_loss: 0.6334\n",
      "Epoch 29/100\n",
      "569/569 [==============================] - 0s - loss: 0.6085 - val_loss: 0.6246\n",
      "Epoch 30/100\n",
      "569/569 [==============================] - 0s - loss: 0.5966 - val_loss: 0.6144\n",
      "Epoch 31/100\n",
      "569/569 [==============================] - 0s - loss: 0.5837 - val_loss: 0.6009\n",
      "Epoch 32/100\n",
      "569/569 [==============================] - 0s - loss: 0.5699 - val_loss: 0.5891\n",
      "Epoch 33/100\n",
      "569/569 [==============================] - 0s - loss: 0.5547 - val_loss: 0.5721\n",
      "Epoch 34/100\n",
      "569/569 [==============================] - 0s - loss: 0.5395 - val_loss: 0.5575\n",
      "Epoch 35/100\n",
      "569/569 [==============================] - 0s - loss: 0.5228 - val_loss: 0.5409\n",
      "Epoch 36/100\n",
      "569/569 [==============================] - 0s - loss: 0.5056 - val_loss: 0.5239\n",
      "Epoch 37/100\n",
      "569/569 [==============================] - 0s - loss: 0.4879 - val_loss: 0.5059\n",
      "Epoch 38/100\n",
      "569/569 [==============================] - 0s - loss: 0.4700 - val_loss: 0.4880\n",
      "Epoch 39/100\n",
      "569/569 [==============================] - 0s - loss: 0.4525 - val_loss: 0.4680\n",
      "Epoch 40/100\n",
      "569/569 [==============================] - 0s - loss: 0.4348 - val_loss: 0.4527\n",
      "Epoch 41/100\n",
      "569/569 [==============================] - 0s - loss: 0.4170 - val_loss: 0.4303\n",
      "Epoch 42/100\n",
      "569/569 [==============================] - 0s - loss: 0.4000 - val_loss: 0.4129\n",
      "Epoch 43/100\n",
      "569/569 [==============================] - 0s - loss: 0.3825 - val_loss: 0.3946\n",
      "Epoch 44/100\n",
      "569/569 [==============================] - 0s - loss: 0.3648 - val_loss: 0.3760\n",
      "Epoch 45/100\n",
      "569/569 [==============================] - 0s - loss: 0.3473 - val_loss: 0.3567\n",
      "Epoch 46/100\n",
      "569/569 [==============================] - 0s - loss: 0.3293 - val_loss: 0.3361\n",
      "Epoch 47/100\n",
      "569/569 [==============================] - 0s - loss: 0.3117 - val_loss: 0.3192\n",
      "Epoch 48/100\n",
      "569/569 [==============================] - 0s - loss: 0.2941 - val_loss: 0.2989\n",
      "Epoch 49/100\n",
      "569/569 [==============================] - 0s - loss: 0.2765 - val_loss: 0.2810\n",
      "Epoch 50/100\n",
      "569/569 [==============================] - 0s - loss: 0.2590 - val_loss: 0.2610\n",
      "Epoch 51/100\n",
      "569/569 [==============================] - 0s - loss: 0.2410 - val_loss: 0.2433\n",
      "Epoch 52/100\n",
      "569/569 [==============================] - 0s - loss: 0.2238 - val_loss: 0.2237\n",
      "Epoch 53/100\n",
      "569/569 [==============================] - 0s - loss: 0.2060 - val_loss: 0.2058\n",
      "Epoch 54/100\n",
      "569/569 [==============================] - 0s - loss: 0.1896 - val_loss: 0.1886\n",
      "Epoch 55/100\n",
      "569/569 [==============================] - 0s - loss: 0.1736 - val_loss: 0.1716\n",
      "Epoch 56/100\n",
      "569/569 [==============================] - 0s - loss: 0.1577 - val_loss: 0.1563\n",
      "Epoch 57/100\n",
      "569/569 [==============================] - 0s - loss: 0.1420 - val_loss: 0.1394\n",
      "Epoch 58/100\n",
      "569/569 [==============================] - 0s - loss: 0.1273 - val_loss: 0.1241\n",
      "Epoch 59/100\n",
      "569/569 [==============================] - 0s - loss: 0.1134 - val_loss: 0.1099\n",
      "Epoch 60/100\n",
      "569/569 [==============================] - 0s - loss: 0.0997 - val_loss: 0.0970\n",
      "Epoch 61/100\n",
      "569/569 [==============================] - 0s - loss: 0.0875 - val_loss: 0.0850\n",
      "Epoch 62/100\n",
      "569/569 [==============================] - 0s - loss: 0.0766 - val_loss: 0.0735\n",
      "Epoch 63/100\n",
      "569/569 [==============================] - 0s - loss: 0.0657 - val_loss: 0.0636\n",
      "Epoch 64/100\n",
      "569/569 [==============================] - 0s - loss: 0.0561 - val_loss: 0.0532\n",
      "Epoch 65/100\n",
      "569/569 [==============================] - 0s - loss: 0.0474 - val_loss: 0.0455\n",
      "Epoch 66/100\n",
      "569/569 [==============================] - 0s - loss: 0.0403 - val_loss: 0.0385\n",
      "Epoch 67/100\n",
      "569/569 [==============================] - 0s - loss: 0.0341 - val_loss: 0.0327\n",
      "Epoch 68/100\n",
      "569/569 [==============================] - 0s - loss: 0.0286 - val_loss: 0.0274\n",
      "Epoch 69/100\n",
      "569/569 [==============================] - 0s - loss: 0.0237 - val_loss: 0.0225\n",
      "Epoch 70/100\n",
      "569/569 [==============================] - 0s - loss: 0.0195 - val_loss: 0.0189\n",
      "Epoch 71/100\n",
      "569/569 [==============================] - 0s - loss: 0.0161 - val_loss: 0.0157\n",
      "Epoch 72/100\n",
      "569/569 [==============================] - 0s - loss: 0.0132 - val_loss: 0.0127\n",
      "Epoch 73/100\n",
      "569/569 [==============================] - 0s - loss: 0.0108 - val_loss: 0.0103\n",
      "Epoch 74/100\n",
      "569/569 [==============================] - 0s - loss: 0.0086 - val_loss: 0.0084\n",
      "Epoch 75/100\n",
      "569/569 [==============================] - 0s - loss: 0.0070 - val_loss: 0.0067\n",
      "Epoch 76/100\n",
      "569/569 [==============================] - 0s - loss: 0.0056 - val_loss: 0.0053\n",
      "Epoch 77/100\n",
      "569/569 [==============================] - 0s - loss: 0.0045 - val_loss: 0.0043\n",
      "Epoch 78/100\n",
      "569/569 [==============================] - 0s - loss: 0.0035 - val_loss: 0.0034\n",
      "Epoch 79/100\n",
      "569/569 [==============================] - 0s - loss: 0.0028 - val_loss: 0.0027\n",
      "Epoch 80/100\n",
      "569/569 [==============================] - 0s - loss: 0.0022 - val_loss: 0.0021\n",
      "Epoch 81/100\n",
      "569/569 [==============================] - 0s - loss: 0.0017 - val_loss: 0.0016\n",
      "Epoch 82/100\n",
      "569/569 [==============================] - 0s - loss: 0.0013 - val_loss: 0.0013\n",
      "Epoch 83/100\n",
      "569/569 [==============================] - 0s - loss: 0.0011 - val_loss: 9.9683e-04\n",
      "Epoch 84/100\n",
      "569/569 [==============================] - 0s - loss: 8.1277e-04 - val_loss: 7.6150e-04\n",
      "Epoch 85/100\n",
      "569/569 [==============================] - 0s - loss: 6.2681e-04 - val_loss: 5.9062e-04\n",
      "Epoch 86/100\n",
      "569/569 [==============================] - 0s - loss: 4.8155e-04 - val_loss: 4.5622e-04\n",
      "Epoch 87/100\n",
      "569/569 [==============================] - 0s - loss: 3.6889e-04 - val_loss: 3.4721e-04\n",
      "Epoch 88/100\n"
     ]
    },
    {
     "name": "stdout",
     "output_type": "stream",
     "text": [
      "569/569 [==============================] - 0s - loss: 2.8045e-04 - val_loss: 2.6260e-04\n",
      "Epoch 89/100\n",
      "569/569 [==============================] - 0s - loss: 2.1511e-04 - val_loss: 1.9936e-04\n",
      "Epoch 90/100\n",
      "569/569 [==============================] - 0s - loss: 1.6352e-04 - val_loss: 1.5157e-04\n",
      "Epoch 91/100\n",
      "569/569 [==============================] - 0s - loss: 1.2460e-04 - val_loss: 1.1479e-04\n",
      "Epoch 92/100\n",
      "569/569 [==============================] - 0s - loss: 9.4703e-05 - val_loss: 8.7599e-05\n",
      "Epoch 93/100\n",
      "569/569 [==============================] - 0s - loss: 7.2149e-05 - val_loss: 6.6113e-05\n",
      "Epoch 94/100\n",
      "569/569 [==============================] - 0s - loss: 5.4774e-05 - val_loss: 5.0302e-05\n",
      "Epoch 95/100\n",
      "569/569 [==============================] - 0s - loss: 4.1661e-05 - val_loss: 3.8194e-05\n",
      "Epoch 96/100\n",
      "569/569 [==============================] - 0s - loss: 3.1917e-05 - val_loss: 2.9216e-05\n",
      "Epoch 97/100\n",
      "569/569 [==============================] - 0s - loss: 2.4610e-05 - val_loss: 2.2549e-05\n",
      "Epoch 98/100\n",
      "569/569 [==============================] - 0s - loss: 1.8872e-05 - val_loss: 1.7065e-05\n",
      "Epoch 99/100\n",
      "569/569 [==============================] - 0s - loss: 1.4361e-05 - val_loss: 1.3052e-05\n",
      "Epoch 100/100\n",
      "569/569 [==============================] - 0s - loss: 1.1000e-05 - val_loss: 9.9866e-06\n",
      "finished\n"
     ]
    }
   ],
   "source": [
    "# Build the model.\n",
    "from keras.models import Sequential\n",
    "from keras.layers.core import Dense, Dropout, Activation\n",
    "from keras.layers.recurrent import LSTM\n",
    "from keras.callbacks import ModelCheckpoint\n",
    "\n",
    "isCheckpoint=False\n",
    "\n",
    "model = Sequential()\n",
    "#model.add(LSTM(256, input_dim=max_features, return_sequences=True))\n",
    "feature_dim=4\n",
    "model.add(LSTM(10, input_shape=(None, feature_dim), return_sequences=True))\n",
    "#model.add(LSTM(256, return_sequences=True))\n",
    "model.add(LSTM(10, return_sequences=True))\n",
    "model.add(Dense(2))  #is it dense? or add(LSTM(max_features))\n",
    "model.add(Activation('softmax'))\n",
    "\n",
    "model.compile(loss='categorical_crossentropy', optimizer='rmsprop')\n",
    "\n",
    "\n",
    "# It is a best practice to use checkpoint \n",
    "callbacks_list=None\n",
    "if isCheckpoint==True:\n",
    "  filepath=\"weight/RNN_BinaryAddition_Method_2-{epoch:02d}-{val_loss:.2f}.hdf5\"\n",
    "  checkpoint = ModelCheckpoint(filepath, monitor='val_loss', verbose=1, save_best_only=True, mode='min')\n",
    "  callbacks_list = [checkpoint]\n",
    "\n",
    "history=model.fit(X_train, y_train, validation_split=0.15 ,batch_size=32, epochs=100,callbacks=callbacks_list)\n",
    "\n",
    "print(\"finished\")\n"
   ]
  },
  {
   "cell_type": "code",
   "execution_count": 127,
   "metadata": {},
   "outputs": [
    {
     "data": {
      "image/png": "[encoded data removed]",
      "text/plain": [
       "<matplotlib.figure.Figure at 0x7f503ee74510>"
      ]
     },
     "metadata": {},
     "output_type": "display_data"
    }
   ],
   "source": [
    "import matplotlib.pyplot as plt\n",
    "# summarize history for loss\n",
    "plt.plot(history.history['loss'])\n",
    "plt.plot(history.history['val_loss'])\n",
    "plt.title('model loss')\n",
    "plt.ylabel('loss')\n",
    "plt.xlabel('epoch')\n",
    "plt.legend(['train', 'validation'], loc='lower left')\n",
    "plt.show()"
   ]
  },
  {
   "cell_type": "code",
   "execution_count": 128,
   "metadata": {},
   "outputs": [
    {
     "name": "stdout",
     "output_type": "stream",
     "text": [
      "330/330 [==============================] - 0s     \n"
     ]
    }
   ],
   "source": [
    "score = model.evaluate(X_test, y_test, batch_size=1)\n",
    "\n",
    "# predict(self, x, batch_size=32, verbose=0)"
   ]
  },
  {
   "cell_type": "code",
   "execution_count": 129,
   "metadata": {},
   "outputs": [
    {
     "name": "stdout",
     "output_type": "stream",
     "text": [
      "score: 1.04495821268e-05\n"
     ]
    }
   ],
   "source": [
    "print(\"score: \"+str(score))"
   ]
  },
  {
   "cell_type": "code",
   "execution_count": 130,
   "metadata": {},
   "outputs": [
    {
     "name": "stdout",
     "output_type": "stream",
     "text": [
      "(330, 8, 4)\n"
     ]
    }
   ],
   "source": [
    "print(X_test.shape)"
   ]
  },
  {
   "cell_type": "code",
   "execution_count": 131,
   "metadata": {
    "collapsed": true
   },
   "outputs": [],
   "source": [
    "predict_y=model.predict(X_test)"
   ]
  },
  {
   "cell_type": "code",
   "execution_count": 132,
   "metadata": {},
   "outputs": [
    {
     "name": "stdout",
     "output_type": "stream",
     "text": [
      "(330, 8, 2)\n"
     ]
    }
   ],
   "source": [
    "print(predict_y.shape)"
   ]
  },
  {
   "cell_type": "code",
   "execution_count": 133,
   "metadata": {},
   "outputs": [
    {
     "name": "stdout",
     "output_type": "stream",
     "text": [
      "[[0 1 1 0]\n",
      " [0 0 1 1]\n",
      " [1 1 0 0]\n",
      " [0 0 1 1]\n",
      " [0 0 1 1]\n",
      " [1 1 0 0]\n",
      " [1 1 0 0]\n",
      " [0 0 1 1]]\n"
     ]
    }
   ],
   "source": [
    "print(X_test[0,...])  "
   ]
  },
  {
   "cell_type": "code",
   "execution_count": 134,
   "metadata": {},
   "outputs": [
    {
     "name": "stdout",
     "output_type": "stream",
     "text": [
      "[[  9.99994159e-01   5.82046914e-06]\n",
      " [  3.69184568e-06   9.99996305e-01]\n",
      " [  2.52773225e-06   9.99997497e-01]\n",
      " [  9.99995351e-01   4.62709386e-06]\n",
      " [  1.47461162e-06   9.99998569e-01]\n",
      " [  4.85186683e-06   9.99995112e-01]\n",
      " [  9.99987364e-01   1.25834267e-05]\n",
      " [  9.99999285e-01   6.73013233e-07]]\n"
     ]
    }
   ],
   "source": [
    "print(predict_y[0,...])  "
   ]
  },
  {
   "cell_type": "code",
   "execution_count": null,
   "metadata": {
    "collapsed": true
   },
   "outputs": [],
   "source": [
    "#10001001"
   ]
  },
  {
   "cell_type": "code",
   "execution_count": null,
   "metadata": {
    "collapsed": true
   },
   "outputs": [],
   "source": [
    "#Another test   001110000011 + 001110000110 = 011100001001"
   ]
  },
  {
   "cell_type": "code",
   "execution_count": 135,
   "metadata": {
    "collapsed": true
   },
   "outputs": [],
   "source": [
    "a=np.zeros((1,12,4))"
   ]
  },
  {
   "cell_type": "code",
   "execution_count": 136,
   "metadata": {
    "collapsed": true
   },
   "outputs": [],
   "source": [
    "for i in range(a.shape[1]):\n",
    "  a[0,i,2]=1\n",
    "  a[0,i,3]=1\n"
   ]
  },
  {
   "cell_type": "code",
   "execution_count": 137,
   "metadata": {
    "collapsed": true
   },
   "outputs": [],
   "source": [
    "a[0,0,0]=1\n",
    "a[0,0,2]=0\n",
    "\n",
    "a[0,1,1]=1\n",
    "a[0,1,3]=0\n",
    "\n",
    "a[0,2,0]=1\n",
    "a[0,2,2]=0\n",
    "\n",
    "a[0,3,1]=1\n",
    "a[0,3,3]=0\n",
    "\n",
    "a[0,7,0]=1\n",
    "a[0,7,2]=0\n",
    "\n",
    "a[0,7,1]=1\n",
    "a[0,7,3]=0\n",
    "\n",
    "a[0,8,0]=1\n",
    "a[0,8,2]=0\n",
    "\n",
    "a[0,8,1]=1\n",
    "a[0,8,3]=0\n",
    "\n",
    "a[0,9,0]=1\n",
    "a[0,9,2]=0\n",
    "\n",
    "a[0,9,1]=1\n",
    "a[0,9,3]=0\n"
   ]
  },
  {
   "cell_type": "code",
   "execution_count": 138,
   "metadata": {},
   "outputs": [
    {
     "name": "stdout",
     "output_type": "stream",
     "text": [
      "[[[ 1.  0.  0.  1.]\n",
      "  [ 0.  1.  1.  0.]\n",
      "  [ 1.  0.  0.  1.]\n",
      "  [ 0.  1.  1.  0.]\n",
      "  [ 0.  0.  1.  1.]\n",
      "  [ 0.  0.  1.  1.]\n",
      "  [ 0.  0.  1.  1.]\n",
      "  [ 1.  1.  0.  0.]\n",
      "  [ 1.  1.  0.  0.]\n",
      "  [ 1.  1.  0.  0.]\n",
      "  [ 0.  0.  1.  1.]\n",
      "  [ 0.  0.  1.  1.]]]\n"
     ]
    }
   ],
   "source": [
    "print(a) #  001110000101 + 001110001010 "
   ]
  },
  {
   "cell_type": "code",
   "execution_count": 139,
   "metadata": {},
   "outputs": [
    {
     "name": "stdout",
     "output_type": "stream",
     "text": [
      "[[[  9.99984503e-01   1.54469853e-05]\n",
      "  [  9.99999881e-01   1.74275598e-07]\n",
      "  [  9.99999046e-01   9.40228460e-07]\n",
      "  [  9.99999762e-01   2.40691662e-07]\n",
      "  [  1.54865484e-06   9.99998450e-01]\n",
      "  [  3.30731200e-06   9.99996662e-01]\n",
      "  [  3.22239976e-06   9.99996781e-01]\n",
      "  [  1.22306528e-06   9.99998808e-01]\n",
      "  [  9.99979615e-01   2.04205917e-05]\n",
      "  [  9.99963045e-01   3.69311238e-05]\n",
      "  [  9.99999046e-01   9.13160704e-07]\n",
      "  [  1.98419389e-06   9.99997973e-01]]]\n"
     ]
    }
   ],
   "source": [
    "print(model.predict(a)) #ANS: 011100001111"
   ]
  },
  {
   "cell_type": "code",
   "execution_count": null,
   "metadata": {
    "collapsed": true
   },
   "outputs": [],
   "source": []
  }
 ],
 "metadata": {
  "kernelspec": {
   "display_name": "Python 2",
   "language": "python",
   "name": "python2"
  },
  "language_info": {
   "codemirror_mode": {
    "name": "ipython",
    "version": 2
   },
   "file_extension": ".py",
   "mimetype": "text/x-python",
   "name": "python",
   "nbconvert_exporter": "python",
   "pygments_lexer": "ipython2",
   "version": "2.7.12"
  }
 },
 "nbformat": 4,
 "nbformat_minor": 2
}
