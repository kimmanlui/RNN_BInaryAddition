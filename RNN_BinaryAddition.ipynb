{
 "cells": [
  {
   "cell_type": "code",
   "execution_count": 10,
   "metadata": {},
   "outputs": [
    {
     "name": "stdout",
     "output_type": "stream",
     "text": [
      "This program runs on version 2.0.6\n",
      "keras version 2.0.6\n"
     ]
    }
   ],
   "source": [
    "## This sample program performs binary addition using RNN in Keras\n",
    "\n",
    "import numpy as np\n",
    "import sys\n",
    "import os\n",
    "import random\n",
    "import keras\n",
    "\n",
    "\n",
    "#change the working directory \n",
    "os.chdir('/notebooks/torch')\n",
    "\n",
    "print(\"This program runs on version 2.0.6\")\n",
    "print(\"keras version \"+keras.__version__)"
   ]
  },
  {
   "cell_type": "code",
   "execution_count": 11,
   "metadata": {
    "collapsed": true
   },
   "outputs": [],
   "source": [
    "def genData(): \n",
    "    a1=random.randint(0,127)\n",
    "    a2=random.randint(0,127)\n",
    "    a3=a1+a2\n",
    "    tmp1=np.unpackbits(np.uint8(a1))\n",
    "    tmp2=np.unpackbits(np.uint8(a2))\n",
    "    y=np.unpackbits(np.uint8(a3))\n",
    "    tmp1=tmp1[::-1]\n",
    "    tmp2=tmp2[::-1]\n",
    "    y=y[::-1]\n",
    "    tmp1=np.reshape(tmp1, (8,1))\n",
    "    tmp2=np.reshape(tmp2, (8,1))\n",
    "    X=np.concatenate((tmp1, tmp2),1)\n",
    "    y=np.reshape(y,(8,1))\n",
    "    X=np.expand_dims(X,0)\n",
    "    y=np.expand_dims(y,0)\n",
    "    return(X,y)"
   ]
  },
  {
   "cell_type": "code",
   "execution_count": 12,
   "metadata": {},
   "outputs": [
    {
     "name": "stdout",
     "output_type": "stream",
     "text": [
      "[[[0 0]\n",
      "  [1 1]\n",
      "  [0 1]\n",
      "  [0 0]\n",
      "  [1 0]\n",
      "  [1 1]\n",
      "  [0 1]\n",
      "  [0 0]]]\n",
      "[[[0]\n",
      "  [0]\n",
      "  [0]\n",
      "  [1]\n",
      "  [1]\n",
      "  [0]\n",
      "  [0]\n",
      "  [1]]]\n"
     ]
    }
   ],
   "source": [
    "a,b=genData()\n",
    "print(a)\n",
    "print(b)"
   ]
  },
  {
   "cell_type": "code",
   "execution_count": 13,
   "metadata": {},
   "outputs": [
    {
     "name": "stdout",
     "output_type": "stream",
     "text": [
      "Sample Percentage: 6.20001240002\n"
     ]
    }
   ],
   "source": [
    "tmpX, tmpy=genData()\n",
    "X=tmpX\n",
    "y=tmpy\n",
    "# Note the total combination is 127 x 127\n",
    "NumSample=1000\n",
    "print(\"Sample Percentage: \"+str(NumSample/(127.*127.)*100))\n",
    "for i in range(NumSample-1):\n",
    "  tmpX, tmpy=genData()\n",
    "  X=np.insert(X, 1, tmpX, axis=0)\n",
    "  y=np.insert(y, 1, tmpy, axis=0)\n"
   ]
  },
  {
   "cell_type": "code",
   "execution_count": 14,
   "metadata": {},
   "outputs": [
    {
     "name": "stdout",
     "output_type": "stream",
     "text": [
      "(1000, 8, 2)\n",
      "(1000, 8, 1)\n"
     ]
    }
   ],
   "source": [
    "print(X.shape)\n",
    "print(y.shape)"
   ]
  },
  {
   "cell_type": "code",
   "execution_count": 15,
   "metadata": {},
   "outputs": [
    {
     "name": "stdout",
     "output_type": "stream",
     "text": [
      "(670, 8, 2)\n",
      "(670, 8, 1)\n",
      "Training Sample Percentage: 4.15400830802\n"
     ]
    }
   ],
   "source": [
    "from sklearn.model_selection import train_test_split\n",
    "X_train, X_test, y_train, y_test = train_test_split(X, y, test_size=0.33, random_state=42)\n",
    "\n",
    "print(X_train.shape)\n",
    "print(y_train.shape)\n",
    "\n",
    "print(\"Training Sample Percentage: \"+str(X_train.shape[0]/(127.*127.)*100))\n"
   ]
  },
  {
   "cell_type": "code",
   "execution_count": 43,
   "metadata": {},
   "outputs": [
    {
     "name": "stdout",
     "output_type": "stream",
     "text": [
      "Train on 569 samples, validate on 101 samples\n",
      "Epoch 1/200\n",
      "569/569 [==============================] - 9s - loss: 0.2583 - val_loss: 0.2509\n",
      "Epoch 2/200\n",
      "569/569 [==============================] - 7s - loss: 0.2492 - val_loss: 0.2487\n",
      "Epoch 3/200\n",
      "569/569 [==============================] - 7s - loss: 0.2486 - val_loss: 0.2479\n",
      "Epoch 4/200\n",
      "569/569 [==============================] - 8s - loss: 0.2482 - val_loss: 0.2476\n",
      "Epoch 5/200\n",
      "569/569 [==============================] - 8s - loss: 0.2480 - val_loss: 0.2476\n",
      "Epoch 6/200\n",
      "569/569 [==============================] - 7s - loss: 0.2479 - val_loss: 0.2471\n",
      "Epoch 7/200\n",
      "569/569 [==============================] - 9s - loss: 0.2476 - val_loss: 0.2470\n",
      "Epoch 8/200\n",
      "569/569 [==============================] - 7s - loss: 0.2477 - val_loss: 0.2470\n",
      "Epoch 9/200\n",
      "569/569 [==============================] - 7s - loss: 0.2477 - val_loss: 0.2494\n",
      "Epoch 10/200\n",
      "569/569 [==============================] - 7s - loss: 0.2474 - val_loss: 0.2478\n",
      "Epoch 11/200\n",
      "569/569 [==============================] - 6s - loss: 0.2473 - val_loss: 0.2470\n",
      "Epoch 12/200\n",
      "569/569 [==============================] - 6s - loss: 0.2474 - val_loss: 0.2467\n",
      "Epoch 13/200\n",
      "569/569 [==============================] - 6s - loss: 0.2473 - val_loss: 0.2492\n",
      "Epoch 14/200\n",
      "569/569 [==============================] - 8s - loss: 0.2474 - val_loss: 0.2469\n",
      "Epoch 15/200\n",
      "569/569 [==============================] - 8s - loss: 0.2473 - val_loss: 0.2478\n",
      "Epoch 16/200\n",
      "569/569 [==============================] - 6s - loss: 0.2471 - val_loss: 0.2475\n",
      "Epoch 17/200\n",
      "569/569 [==============================] - 8s - loss: 0.2473 - val_loss: 0.2468\n",
      "Epoch 18/200\n",
      "569/569 [==============================] - 8s - loss: 0.2471 - val_loss: 0.2477\n",
      "Epoch 19/200\n",
      "569/569 [==============================] - 7s - loss: 0.2472 - val_loss: 0.2479\n",
      "Epoch 20/200\n",
      "569/569 [==============================] - 7s - loss: 0.2471 - val_loss: 0.2465\n",
      "Epoch 21/200\n",
      "569/569 [==============================] - 7s - loss: 0.2471 - val_loss: 0.2464\n",
      "Epoch 22/200\n",
      "569/569 [==============================] - 9s - loss: 0.2471 - val_loss: 0.2466\n",
      "Epoch 23/200\n",
      "569/569 [==============================] - 7s - loss: 0.2469 - val_loss: 0.2469\n",
      "Epoch 24/200\n",
      "569/569 [==============================] - 6s - loss: 0.2470 - val_loss: 0.2463\n",
      "Epoch 25/200\n",
      "569/569 [==============================] - 8s - loss: 0.2468 - val_loss: 0.2467\n",
      "Epoch 26/200\n",
      "569/569 [==============================] - 8s - loss: 0.2469 - val_loss: 0.2467\n",
      "Epoch 27/200\n",
      "569/569 [==============================] - 7s - loss: 0.2466 - val_loss: 0.2475\n",
      "Epoch 28/200\n",
      "569/569 [==============================] - 6s - loss: 0.2468 - val_loss: 0.2463\n",
      "Epoch 29/200\n",
      "569/569 [==============================] - 7s - loss: 0.2466 - val_loss: 0.2514\n",
      "Epoch 30/200\n",
      "569/569 [==============================] - 7s - loss: 0.2465 - val_loss: 0.2474\n",
      "Epoch 31/200\n",
      "569/569 [==============================] - 6s - loss: 0.2467 - val_loss: 0.2461\n",
      "Epoch 32/200\n",
      "569/569 [==============================] - 6s - loss: 0.2465 - val_loss: 0.2470\n",
      "Epoch 33/200\n",
      "569/569 [==============================] - 6s - loss: 0.2463 - val_loss: 0.2460\n",
      "Epoch 34/200\n",
      "569/569 [==============================] - 6s - loss: 0.2464 - val_loss: 0.2460\n",
      "Epoch 35/200\n",
      "569/569 [==============================] - 10s - loss: 0.2463 - val_loss: 0.2486\n",
      "Epoch 36/200\n",
      "569/569 [==============================] - 7s - loss: 0.2461 - val_loss: 0.2458\n",
      "Epoch 37/200\n",
      "569/569 [==============================] - 6s - loss: 0.2463 - val_loss: 0.2458\n",
      "Epoch 38/200\n",
      "569/569 [==============================] - 8s - loss: 0.2461 - val_loss: 0.2457\n",
      "Epoch 39/200\n",
      "569/569 [==============================] - 6s - loss: 0.2461 - val_loss: 0.2460\n",
      "Epoch 40/200\n",
      "569/569 [==============================] - 8s - loss: 0.2461 - val_loss: 0.2456\n",
      "Epoch 41/200\n",
      "569/569 [==============================] - 6s - loss: 0.2458 - val_loss: 0.2455\n",
      "Epoch 42/200\n",
      "569/569 [==============================] - 6s - loss: 0.2457 - val_loss: 0.2467\n",
      "Epoch 43/200\n",
      "569/569 [==============================] - 7s - loss: 0.2458 - val_loss: 0.2453\n",
      "Epoch 44/200\n",
      "569/569 [==============================] - 6s - loss: 0.2455 - val_loss: 0.2454\n",
      "Epoch 45/200\n",
      "569/569 [==============================] - 8s - loss: 0.2455 - val_loss: 0.2452\n",
      "Epoch 46/200\n",
      "569/569 [==============================] - 7s - loss: 0.2455 - val_loss: 0.2459\n",
      "Epoch 47/200\n",
      "569/569 [==============================] - 8s - loss: 0.2453 - val_loss: 0.2502\n",
      "Epoch 48/200\n",
      "569/569 [==============================] - 6s - loss: 0.2455 - val_loss: 0.2451\n",
      "Epoch 49/200\n",
      "569/569 [==============================] - 7s - loss: 0.2454 - val_loss: 0.2449\n",
      "Epoch 50/200\n",
      "569/569 [==============================] - 8s - loss: 0.2452 - val_loss: 0.2464\n",
      "Epoch 51/200\n",
      "569/569 [==============================] - 8s - loss: 0.2450 - val_loss: 0.2449\n",
      "Epoch 52/200\n",
      "569/569 [==============================] - 7s - loss: 0.2448 - val_loss: 0.2450\n",
      "Epoch 53/200\n",
      "569/569 [==============================] - 7s - loss: 0.2445 - val_loss: 0.2444\n",
      "Epoch 54/200\n",
      "569/569 [==============================] - 7s - loss: 0.2447 - val_loss: 0.2444\n",
      "Epoch 55/200\n",
      "569/569 [==============================] - 8s - loss: 0.2444 - val_loss: 0.2442\n",
      "Epoch 56/200\n",
      "569/569 [==============================] - 7s - loss: 0.2442 - val_loss: 0.2445\n",
      "Epoch 57/200\n",
      "569/569 [==============================] - 7s - loss: 0.2439 - val_loss: 0.2439\n",
      "Epoch 58/200\n",
      "569/569 [==============================] - 6s - loss: 0.2436 - val_loss: 0.2471\n",
      "Epoch 59/200\n",
      "569/569 [==============================] - 8s - loss: 0.2435 - val_loss: 0.2444\n",
      "Epoch 60/200\n",
      "569/569 [==============================] - 7s - loss: 0.2435 - val_loss: 0.2433\n",
      "Epoch 61/200\n",
      "569/569 [==============================] - 6s - loss: 0.2432 - val_loss: 0.2442\n",
      "Epoch 62/200\n",
      "569/569 [==============================] - 8s - loss: 0.2430 - val_loss: 0.2436\n",
      "Epoch 63/200\n",
      "569/569 [==============================] - 8s - loss: 0.2430 - val_loss: 0.2431\n",
      "Epoch 64/200\n",
      "569/569 [==============================] - 9s - loss: 0.2427 - val_loss: 0.2425\n",
      "Epoch 65/200\n",
      "569/569 [==============================] - 6s - loss: 0.2424 - val_loss: 0.2423\n",
      "Epoch 66/200\n",
      "569/569 [==============================] - 7s - loss: 0.2421 - val_loss: 0.2421\n",
      "Epoch 67/200\n",
      "569/569 [==============================] - 6s - loss: 0.2418 - val_loss: 0.2419\n",
      "Epoch 68/200\n",
      "569/569 [==============================] - 6s - loss: 0.2416 - val_loss: 0.2424\n",
      "Epoch 69/200\n",
      "569/569 [==============================] - 6s - loss: 0.2410 - val_loss: 0.2412\n",
      "Epoch 70/200\n",
      "569/569 [==============================] - 10s - loss: 0.2410 - val_loss: 0.2430\n",
      "Epoch 71/200\n",
      "569/569 [==============================] - 7s - loss: 0.2406 - val_loss: 0.2408\n",
      "Epoch 72/200\n",
      "569/569 [==============================] - 7s - loss: 0.2403 - val_loss: 0.2403\n",
      "Epoch 73/200\n",
      "569/569 [==============================] - 8s - loss: 0.2398 - val_loss: 0.2411\n",
      "Epoch 74/200\n",
      "569/569 [==============================] - 7s - loss: 0.2396 - val_loss: 0.2397\n",
      "Epoch 75/200\n",
      "569/569 [==============================] - 7s - loss: 0.2391 - val_loss: 0.2392\n",
      "Epoch 76/200\n",
      "569/569 [==============================] - 7s - loss: 0.2386 - val_loss: 0.2394\n",
      "Epoch 77/200\n",
      "569/569 [==============================] - 7s - loss: 0.2380 - val_loss: 0.2399\n",
      "Epoch 78/200\n",
      "569/569 [==============================] - 10s - loss: 0.2375 - val_loss: 0.2382\n",
      "Epoch 79/200\n",
      "569/569 [==============================] - 7s - loss: 0.2372 - val_loss: 0.2374\n",
      "Epoch 80/200\n",
      "569/569 [==============================] - 7s - loss: 0.2365 - val_loss: 0.2376\n",
      "Epoch 81/200\n",
      "569/569 [==============================] - 9s - loss: 0.2359 - val_loss: 0.2366\n",
      "Epoch 82/200\n",
      "569/569 [==============================] - 6s - loss: 0.2352 - val_loss: 0.2406\n",
      "Epoch 83/200\n",
      "569/569 [==============================] - 6s - loss: 0.2348 - val_loss: 0.2385\n",
      "Epoch 84/200\n",
      "569/569 [==============================] - 7s - loss: 0.2342 - val_loss: 0.2343\n",
      "Epoch 85/200\n",
      "569/569 [==============================] - 7s - loss: 0.2334 - val_loss: 0.2348\n",
      "Epoch 86/200\n",
      "569/569 [==============================] - 7s - loss: 0.2327 - val_loss: 0.2349\n",
      "Epoch 87/200\n",
      "569/569 [==============================] - 7s - loss: 0.2319 - val_loss: 0.2328\n",
      "Epoch 88/200\n"
     ]
    },
    {
     "name": "stdout",
     "output_type": "stream",
     "text": [
      "569/569 [==============================] - 7s - loss: 0.2312 - val_loss: 0.2312\n",
      "Epoch 89/200\n",
      "569/569 [==============================] - 7s - loss: 0.2300 - val_loss: 0.2302\n",
      "Epoch 90/200\n",
      "569/569 [==============================] - 7s - loss: 0.2289 - val_loss: 0.2292\n",
      "Epoch 91/200\n",
      "569/569 [==============================] - 7s - loss: 0.2281 - val_loss: 0.2286\n",
      "Epoch 92/200\n",
      "569/569 [==============================] - 8s - loss: 0.2271 - val_loss: 0.2271\n",
      "Epoch 93/200\n",
      "569/569 [==============================] - 8s - loss: 0.2258 - val_loss: 0.2258\n",
      "Epoch 94/200\n",
      "569/569 [==============================] - 7s - loss: 0.2245 - val_loss: 0.2267\n",
      "Epoch 95/200\n",
      "569/569 [==============================] - 6s - loss: 0.2234 - val_loss: 0.2231\n",
      "Epoch 96/200\n",
      "569/569 [==============================] - 8s - loss: 0.2220 - val_loss: 0.2221\n",
      "Epoch 97/200\n",
      "569/569 [==============================] - 7s - loss: 0.2205 - val_loss: 0.2211\n",
      "Epoch 98/200\n",
      "569/569 [==============================] - 8s - loss: 0.2186 - val_loss: 0.2212\n",
      "Epoch 99/200\n",
      "569/569 [==============================] - 10s - loss: 0.2175 - val_loss: 0.2177\n",
      "Epoch 100/200\n",
      "569/569 [==============================] - 7s - loss: 0.2158 - val_loss: 0.2149\n",
      "Epoch 101/200\n",
      "569/569 [==============================] - 8s - loss: 0.2137 - val_loss: 0.2135\n",
      "Epoch 102/200\n",
      "569/569 [==============================] - 8s - loss: 0.2118 - val_loss: 0.2109\n",
      "Epoch 103/200\n",
      "569/569 [==============================] - 9s - loss: 0.2099 - val_loss: 0.2111\n",
      "Epoch 104/200\n",
      "569/569 [==============================] - 6s - loss: 0.2080 - val_loss: 0.2068\n",
      "Epoch 105/200\n",
      "569/569 [==============================] - 7s - loss: 0.2057 - val_loss: 0.2060\n",
      "Epoch 106/200\n",
      "569/569 [==============================] - 7s - loss: 0.2036 - val_loss: 0.2039\n",
      "Epoch 107/200\n",
      "569/569 [==============================] - 7s - loss: 0.2016 - val_loss: 0.2013\n",
      "Epoch 108/200\n",
      "569/569 [==============================] - 6s - loss: 0.1994 - val_loss: 0.1974\n",
      "Epoch 109/200\n",
      "569/569 [==============================] - 7s - loss: 0.1971 - val_loss: 0.1949\n",
      "Epoch 110/200\n",
      "569/569 [==============================] - 6s - loss: 0.1944 - val_loss: 0.1924\n",
      "Epoch 111/200\n",
      "569/569 [==============================] - 7s - loss: 0.1923 - val_loss: 0.1893\n",
      "Epoch 112/200\n",
      "569/569 [==============================] - 7s - loss: 0.1896 - val_loss: 0.1885\n",
      "Epoch 113/200\n",
      "569/569 [==============================] - 7s - loss: 0.1873 - val_loss: 0.1842\n",
      "Epoch 114/200\n",
      "569/569 [==============================] - 8s - loss: 0.1846 - val_loss: 0.1813\n",
      "Epoch 115/200\n",
      "569/569 [==============================] - 7s - loss: 0.1824 - val_loss: 0.1790\n",
      "Epoch 116/200\n",
      "569/569 [==============================] - 8s - loss: 0.1800 - val_loss: 0.1764\n",
      "Epoch 117/200\n",
      "569/569 [==============================] - 7s - loss: 0.1776 - val_loss: 0.1734\n",
      "Epoch 118/200\n",
      "569/569 [==============================] - 7s - loss: 0.1754 - val_loss: 0.1712\n",
      "Epoch 119/200\n",
      "569/569 [==============================] - 6s - loss: 0.1726 - val_loss: 0.1688\n",
      "Epoch 120/200\n",
      "569/569 [==============================] - 6s - loss: 0.1702 - val_loss: 0.1653\n",
      "Epoch 121/200\n",
      "569/569 [==============================] - 8s - loss: 0.1669 - val_loss: 0.1648\n",
      "Epoch 122/200\n",
      "569/569 [==============================] - 7s - loss: 0.1642 - val_loss: 0.1637\n",
      "Epoch 123/200\n",
      "569/569 [==============================] - 6s - loss: 0.1610 - val_loss: 0.1561\n",
      "Epoch 124/200\n",
      "569/569 [==============================] - 8s - loss: 0.1575 - val_loss: 0.1522\n",
      "Epoch 125/200\n",
      "569/569 [==============================] - 7s - loss: 0.1536 - val_loss: 0.1508\n",
      "Epoch 126/200\n",
      "569/569 [==============================] - 7s - loss: 0.1497 - val_loss: 0.1455\n",
      "Epoch 127/200\n",
      "569/569 [==============================] - 6s - loss: 0.1457 - val_loss: 0.1403\n",
      "Epoch 128/200\n",
      "569/569 [==============================] - 6s - loss: 0.1409 - val_loss: 0.1358\n",
      "Epoch 129/200\n",
      "569/569 [==============================] - 6s - loss: 0.1359 - val_loss: 0.1307\n",
      "Epoch 130/200\n",
      "569/569 [==============================] - 6s - loss: 0.1306 - val_loss: 0.1253\n",
      "Epoch 131/200\n",
      "569/569 [==============================] - 8s - loss: 0.1244 - val_loss: 0.1202\n",
      "Epoch 132/200\n",
      "569/569 [==============================] - 7s - loss: 0.1186 - val_loss: 0.1149\n",
      "Epoch 133/200\n",
      "569/569 [==============================] - 8s - loss: 0.1120 - val_loss: 0.1096\n",
      "Epoch 134/200\n",
      "569/569 [==============================] - 7s - loss: 0.1060 - val_loss: 0.1023\n",
      "Epoch 135/200\n",
      "569/569 [==============================] - 6s - loss: 0.0999 - val_loss: 0.0978\n",
      "Epoch 136/200\n",
      "569/569 [==============================] - 6s - loss: 0.0940 - val_loss: 0.0912\n",
      "Epoch 137/200\n",
      "569/569 [==============================] - 6s - loss: 0.0878 - val_loss: 0.0854\n",
      "Epoch 138/200\n",
      "569/569 [==============================] - 8s - loss: 0.0819 - val_loss: 0.0802\n",
      "Epoch 139/200\n",
      "569/569 [==============================] - 8s - loss: 0.0756 - val_loss: 0.0733\n",
      "Epoch 140/200\n",
      "569/569 [==============================] - 8s - loss: 0.0691 - val_loss: 0.0678\n",
      "Epoch 141/200\n",
      "569/569 [==============================] - 8s - loss: 0.0622 - val_loss: 0.0602\n",
      "Epoch 142/200\n",
      "569/569 [==============================] - 9s - loss: 0.0549 - val_loss: 0.0527\n",
      "Epoch 143/200\n",
      "569/569 [==============================] - 6s - loss: 0.0476 - val_loss: 0.0445\n",
      "Epoch 144/200\n",
      "569/569 [==============================] - 8s - loss: 0.0400 - val_loss: 0.0377\n",
      "Epoch 145/200\n",
      "569/569 [==============================] - 8s - loss: 0.0323 - val_loss: 0.0294\n",
      "Epoch 146/200\n",
      "569/569 [==============================] - 8s - loss: 0.0262 - val_loss: 0.0241\n",
      "Epoch 147/200\n",
      "569/569 [==============================] - 6s - loss: 0.0207 - val_loss: 0.0182\n",
      "Epoch 148/200\n",
      "569/569 [==============================] - 6s - loss: 0.0162 - val_loss: 0.0150\n",
      "Epoch 149/200\n",
      "569/569 [==============================] - 6s - loss: 0.0128 - val_loss: 0.0126\n",
      "Epoch 150/200\n",
      "569/569 [==============================] - 7s - loss: 0.0110 - val_loss: 0.0098\n",
      "Epoch 151/200\n",
      "569/569 [==============================] - 9s - loss: 0.0093 - val_loss: 0.0083\n",
      "Epoch 152/200\n",
      "569/569 [==============================] - 7s - loss: 0.0083 - val_loss: 0.0074\n",
      "Epoch 153/200\n",
      "569/569 [==============================] - 6s - loss: 0.0075 - val_loss: 0.0070\n",
      "Epoch 154/200\n",
      "569/569 [==============================] - 6s - loss: 0.0069 - val_loss: 0.0064\n",
      "Epoch 155/200\n",
      "569/569 [==============================] - 7s - loss: 0.0064 - val_loss: 0.0059\n",
      "Epoch 156/200\n",
      "569/569 [==============================] - 8s - loss: 0.0059 - val_loss: 0.0055\n",
      "Epoch 157/200\n",
      "569/569 [==============================] - 7s - loss: 0.0055 - val_loss: 0.0052\n",
      "Epoch 158/200\n",
      "569/569 [==============================] - 7s - loss: 0.0052 - val_loss: 0.0049\n",
      "Epoch 159/200\n",
      "569/569 [==============================] - 7s - loss: 0.0050 - val_loss: 0.0046\n",
      "Epoch 160/200\n",
      "569/569 [==============================] - 10s - loss: 0.0047 - val_loss: 0.0044\n",
      "Epoch 161/200\n",
      "569/569 [==============================] - 7s - loss: 0.0045 - val_loss: 0.0043\n",
      "Epoch 162/200\n",
      "569/569 [==============================] - 7s - loss: 0.0043 - val_loss: 0.0041\n",
      "Epoch 163/200\n",
      "569/569 [==============================] - 8s - loss: 0.0041 - val_loss: 0.0039\n",
      "Epoch 164/200\n",
      "569/569 [==============================] - 7s - loss: 0.0039 - val_loss: 0.0037\n",
      "Epoch 165/200\n",
      "569/569 [==============================] - 8s - loss: 0.0038 - val_loss: 0.0036\n",
      "Epoch 166/200\n",
      "569/569 [==============================] - 7s - loss: 0.0036 - val_loss: 0.0035\n",
      "Epoch 167/200\n",
      "569/569 [==============================] - 8s - loss: 0.0035 - val_loss: 0.0033\n",
      "Epoch 168/200\n",
      "569/569 [==============================] - 7s - loss: 0.0034 - val_loss: 0.0032\n",
      "Epoch 169/200\n",
      "569/569 [==============================] - 8s - loss: 0.0032 - val_loss: 0.0031\n",
      "Epoch 170/200\n",
      "569/569 [==============================] - 7s - loss: 0.0031 - val_loss: 0.0030\n",
      "Epoch 171/200\n",
      "569/569 [==============================] - 8s - loss: 0.0030 - val_loss: 0.0029\n",
      "Epoch 172/200\n",
      "569/569 [==============================] - 7s - loss: 0.0029 - val_loss: 0.0028\n",
      "Epoch 173/200\n",
      "569/569 [==============================] - 8s - loss: 0.0028 - val_loss: 0.0027\n",
      "Epoch 174/200\n",
      "569/569 [==============================] - 7s - loss: 0.0028 - val_loss: 0.0026\n",
      "Epoch 175/200\n"
     ]
    },
    {
     "name": "stdout",
     "output_type": "stream",
     "text": [
      "569/569 [==============================] - 7s - loss: 0.0027 - val_loss: 0.0025\n",
      "Epoch 176/200\n",
      "569/569 [==============================] - 7s - loss: 0.0026 - val_loss: 0.0025\n",
      "Epoch 177/200\n",
      "569/569 [==============================] - 7s - loss: 0.0025 - val_loss: 0.0024\n",
      "Epoch 178/200\n",
      "569/569 [==============================] - 7s - loss: 0.0025 - val_loss: 0.0024\n",
      "Epoch 179/200\n",
      "569/569 [==============================] - 7s - loss: 0.0024 - val_loss: 0.0023\n",
      "Epoch 180/200\n",
      "569/569 [==============================] - 6s - loss: 0.0023 - val_loss: 0.0022\n",
      "Epoch 181/200\n",
      "569/569 [==============================] - 7s - loss: 0.0023 - val_loss: 0.0022\n",
      "Epoch 182/200\n",
      "569/569 [==============================] - 6s - loss: 0.0022 - val_loss: 0.0021\n",
      "Epoch 183/200\n",
      "569/569 [==============================] - 6s - loss: 0.0022 - val_loss: 0.0021\n",
      "Epoch 184/200\n",
      "569/569 [==============================] - 6s - loss: 0.0021 - val_loss: 0.0020\n",
      "Epoch 185/200\n",
      "569/569 [==============================] - 7s - loss: 0.0021 - val_loss: 0.0020\n",
      "Epoch 186/200\n",
      "569/569 [==============================] - 8s - loss: 0.0020 - val_loss: 0.0020\n",
      "Epoch 187/200\n",
      "569/569 [==============================] - 8s - loss: 0.0020 - val_loss: 0.0019\n",
      "Epoch 188/200\n",
      "569/569 [==============================] - 7s - loss: 0.0019 - val_loss: 0.0019\n",
      "Epoch 189/200\n",
      "569/569 [==============================] - 7s - loss: 0.0019 - val_loss: 0.0018\n",
      "Epoch 190/200\n",
      "569/569 [==============================] - 7s - loss: 0.0018 - val_loss: 0.0018\n",
      "Epoch 191/200\n",
      "569/569 [==============================] - 7s - loss: 0.0018 - val_loss: 0.0017\n",
      "Epoch 192/200\n",
      "569/569 [==============================] - 8s - loss: 0.0018 - val_loss: 0.0017\n",
      "Epoch 193/200\n",
      "569/569 [==============================] - 7s - loss: 0.0017 - val_loss: 0.0017\n",
      "Epoch 194/200\n",
      "569/569 [==============================] - 6s - loss: 0.0017 - val_loss: 0.0016\n",
      "Epoch 195/200\n",
      "569/569 [==============================] - 8s - loss: 0.0017 - val_loss: 0.0016\n",
      "Epoch 196/200\n",
      "569/569 [==============================] - 8s - loss: 0.0016 - val_loss: 0.0016\n",
      "Epoch 197/200\n",
      "569/569 [==============================] - 7s - loss: 0.0016 - val_loss: 0.0015\n",
      "Epoch 198/200\n",
      "569/569 [==============================] - 7s - loss: 0.0016 - val_loss: 0.0015\n",
      "Epoch 199/200\n",
      "569/569 [==============================] - 6s - loss: 0.0015 - val_loss: 0.0015\n",
      "Epoch 200/200\n",
      "569/569 [==============================] - 8s - loss: 0.0015 - val_loss: 0.0015\n",
      "finished\n"
     ]
    }
   ],
   "source": [
    "# Build the model.\n",
    "from keras.models import Sequential\n",
    "from keras.layers.core import Dense, Dropout, Activation\n",
    "from keras.layers.recurrent import LSTM\n",
    "from keras.callbacks import ModelCheckpoint\n",
    "\n",
    "isCheckpoint=False\n",
    "\n",
    "model = Sequential()\n",
    "#model.add(LSTM(256, input_dim=max_features, return_sequences=True))\n",
    "feature_dim=2\n",
    "model.add(LSTM(10, input_shape=(None, feature_dim), return_sequences=True))\n",
    "#model.add(LSTM(256, return_sequences=True))\n",
    "model.add(LSTM(10, return_sequences=True))\n",
    "model.add(Dense(1))  #is it dense? or add(LSTM(max_features))\n",
    "#model.add(Activation('softmax'))\n",
    "\n",
    "model.compile(loss='mean_squared_error', optimizer='sgd')\n",
    "\n",
    "\n",
    "# It is a best practice to use checkpoint \n",
    "callbacks_list=None\n",
    "if isCheckpoint==True:\n",
    "  filepath=\"weight/RNN_BinaryAddition-{epoch:02d}-{val_loss:.2f}.hdf5\"\n",
    "  checkpoint = ModelCheckpoint(filepath, monitor='val_loss', verbose=1, save_best_only=True, mode='min')\n",
    "  callbacks_list = [checkpoint]\n",
    "\n",
    "history=model.fit(X_train, y_train, validation_split=0.15 ,batch_size=1, epochs=200,callbacks=callbacks_list)\n",
    "\n",
    "print(\"finished\")\n"
   ]
  },
  {
   "cell_type": "code",
   "execution_count": 45,
   "metadata": {},
   "outputs": [
    {
     "data": {
      "image/png": "[encoded data removed]",
      "text/plain": [
       "<matplotlib.figure.Figure at 0x7f3926f90450>"
      ]
     },
     "metadata": {},
     "output_type": "display_data"
    }
   ],
   "source": [
    "import matplotlib.pyplot as plt\n",
    "# summarize history for loss\n",
    "plt.plot(history.history['loss'])\n",
    "plt.plot(history.history['val_loss'])\n",
    "plt.title('model loss')\n",
    "plt.ylabel('loss')\n",
    "plt.xlabel('epoch')\n",
    "plt.legend(['train', 'validation'], loc='lower left')\n",
    "plt.show()"
   ]
  },
  {
   "cell_type": "code",
   "execution_count": 46,
   "metadata": {},
   "outputs": [
    {
     "name": "stdout",
     "output_type": "stream",
     "text": [
      "321/330 [============================>.] - ETA: 0s"
     ]
    }
   ],
   "source": [
    "score = model.evaluate(X_test, y_test, batch_size=1)\n",
    "\n",
    "# predict(self, x, batch_size=32, verbose=0)"
   ]
  },
  {
   "cell_type": "code",
   "execution_count": 47,
   "metadata": {},
   "outputs": [
    {
     "name": "stdout",
     "output_type": "stream",
     "text": [
      "score: 0.00135907424897\n"
     ]
    }
   ],
   "source": [
    "print(\"score: \"+str(score))"
   ]
  },
  {
   "cell_type": "code",
   "execution_count": 48,
   "metadata": {},
   "outputs": [
    {
     "name": "stdout",
     "output_type": "stream",
     "text": [
      "(330, 8, 2)\n"
     ]
    }
   ],
   "source": [
    "print(X_test.shape)"
   ]
  },
  {
   "cell_type": "code",
   "execution_count": 49,
   "metadata": {
    "collapsed": true
   },
   "outputs": [],
   "source": [
    "predict_y=model.predict(X_test)"
   ]
  },
  {
   "cell_type": "code",
   "execution_count": 30,
   "metadata": {},
   "outputs": [
    {
     "name": "stdout",
     "output_type": "stream",
     "text": [
      "(330, 8, 1)\n"
     ]
    }
   ],
   "source": [
    "print(predict_y.shape)"
   ]
  },
  {
   "cell_type": "code",
   "execution_count": 50,
   "metadata": {},
   "outputs": [
    {
     "name": "stdout",
     "output_type": "stream",
     "text": [
      "[[0 1]\n",
      " [1 1]\n",
      " [0 1]\n",
      " [1 0]\n",
      " [1 1]\n",
      " [0 1]\n",
      " [0 1]\n",
      " [0 0]]\n"
     ]
    }
   ],
   "source": [
    "print(X_test[0,...])  "
   ]
  },
  {
   "cell_type": "code",
   "execution_count": 51,
   "metadata": {},
   "outputs": [
    {
     "name": "stdout",
     "output_type": "stream",
     "text": [
      "[[ 0.98763132]\n",
      " [-0.00283545]\n",
      " [-0.00467482]\n",
      " [-0.01041976]\n",
      " [ 1.01300597]\n",
      " [-0.00527069]\n",
      " [-0.00333282]\n",
      " [ 1.00169396]]\n"
     ]
    }
   ],
   "source": [
    "print(predict_y[0,...])  "
   ]
  },
  {
   "cell_type": "code",
   "execution_count": null,
   "metadata": {
    "collapsed": true
   },
   "outputs": [],
   "source": [
    "#10001001"
   ]
  }
 ],
 "metadata": {
  "kernelspec": {
   "display_name": "Python 2",
   "language": "python",
   "name": "python2"
  },
  "language_info": {
   "codemirror_mode": {
    "name": "ipython",
    "version": 2
   },
   "file_extension": ".py",
   "mimetype": "text/x-python",
   "name": "python",
   "nbconvert_exporter": "python",
   "pygments_lexer": "ipython2",
   "version": "2.7.12"
  }
 },
 "nbformat": 4,
 "nbformat_minor": 2
}
